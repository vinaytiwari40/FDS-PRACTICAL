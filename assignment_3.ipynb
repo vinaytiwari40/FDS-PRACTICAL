{
  "nbformat": 4,
  "nbformat_minor": 0,
  "metadata": {
    "colab": {
      "name": "assignment 3",
      "provenance": []
    },
    "kernelspec": {
      "name": "python3",
      "display_name": "Python 3"
    },
    "language_info": {
      "name": "python"
    }
  },
  "cells": [
    {
      "cell_type": "code",
      "execution_count": null,
      "metadata": {
        "colab": {
          "base_uri": "https://localhost:8080/",
          "height": 35
        },
        "id": "7XHsX70h-KC7",
        "outputId": "974e1fc4-33b9-43ac-9e9d-9a0762d40eb0"
      },
      "outputs": [
        {
          "output_type": "execute_result",
          "data": {
            "application/vnd.google.colaboratory.intrinsic+json": {
              "type": "string"
            },
            "text/plain": [
              "'1.19.5'"
            ]
          },
          "metadata": {},
          "execution_count": 1
        }
      ],
      "source": [
        "import numpy\n",
        "numpy.__version__"
      ]
    },
    {
      "cell_type": "code",
      "source": [
        "list1=[]\n",
        "list1"
      ],
      "metadata": {
        "colab": {
          "base_uri": "https://localhost:8080/"
        },
        "id": "FX0vk39uBCXU",
        "outputId": "ab72ad34-6d8b-439c-bee7-4712b538a221"
      },
      "execution_count": null,
      "outputs": [
        {
          "output_type": "execute_result",
          "data": {
            "text/plain": [
              "[]"
            ]
          },
          "metadata": {},
          "execution_count": 2
        }
      ]
    },
    {
      "cell_type": "code",
      "source": [
        "type(list1)"
      ],
      "metadata": {
        "colab": {
          "base_uri": "https://localhost:8080/"
        },
        "id": "S1EDJblNBHVw",
        "outputId": "1fce9e80-07fc-4670-89ed-04b349f1f75f"
      },
      "execution_count": null,
      "outputs": [
        {
          "output_type": "execute_result",
          "data": {
            "text/plain": [
              "list"
            ]
          },
          "metadata": {},
          "execution_count": 3
        }
      ]
    },
    {
      "cell_type": "code",
      "source": [
        "list2 = list(range(10))\n",
        "list2"
      ],
      "metadata": {
        "colab": {
          "base_uri": "https://localhost:8080/"
        },
        "id": "S9bE2VjmBLIi",
        "outputId": "9e9b7937-4b97-435b-a630-49ae742b6120"
      },
      "execution_count": null,
      "outputs": [
        {
          "output_type": "execute_result",
          "data": {
            "text/plain": [
              "[0, 1, 2, 3, 4, 5, 6, 7, 8, 9]"
            ]
          },
          "metadata": {},
          "execution_count": 4
        }
      ]
    },
    {
      "cell_type": "code",
      "source": [
        "list3 = [str(c) for c in list2]\n",
        "list3"
      ],
      "metadata": {
        "colab": {
          "base_uri": "https://localhost:8080/"
        },
        "id": "89BAEF2mBQOW",
        "outputId": "18b034ac-6c99-4508-ef6f-d9a3f5ce6ae0"
      },
      "execution_count": null,
      "outputs": [
        {
          "output_type": "execute_result",
          "data": {
            "text/plain": [
              "['0', '1', '2', '3', '4', '5', '6', '7', '8', '9']"
            ]
          },
          "metadata": {},
          "execution_count": 5
        }
      ]
    },
    {
      "cell_type": "code",
      "source": [
        "list4 = [1,10.2,'c','Amit',True]\n",
        "list4"
      ],
      "metadata": {
        "colab": {
          "base_uri": "https://localhost:8080/"
        },
        "id": "I5f0TbziBWCB",
        "outputId": "f055014d-d761-4887-929e-306594d1f93c"
      },
      "execution_count": null,
      "outputs": [
        {
          "output_type": "execute_result",
          "data": {
            "text/plain": [
              "[1, 10.2, 'c', 'Amit', True]"
            ]
          },
          "metadata": {},
          "execution_count": 6
        }
      ]
    },
    {
      "cell_type": "code",
      "source": [
        "type(list4)"
      ],
      "metadata": {
        "colab": {
          "base_uri": "https://localhost:8080/"
        },
        "id": "giPNY_XmBZSn",
        "outputId": "e95c526e-7e82-4e98-b717-e8290e77d4d8"
      },
      "execution_count": null,
      "outputs": [
        {
          "output_type": "execute_result",
          "data": {
            "text/plain": [
              "list"
            ]
          },
          "metadata": {},
          "execution_count": 7
        }
      ]
    },
    {
      "cell_type": "code",
      "source": [
        "[type(item) for item in list4]"
      ],
      "metadata": {
        "colab": {
          "base_uri": "https://localhost:8080/"
        },
        "id": "dHL3utbiBcvl",
        "outputId": "8c9abffc-dc7c-41f4-da47-b956d557f0ea"
      },
      "execution_count": null,
      "outputs": [
        {
          "output_type": "execute_result",
          "data": {
            "text/plain": [
              "[int, float, str, str, bool]"
            ]
          },
          "metadata": {},
          "execution_count": 8
        }
      ]
    },
    {
      "cell_type": "code",
      "source": [
        "import array as ar\n",
        "L = list(range(10))\n",
        "A = ar.array('i', L)\n",
        "A"
      ],
      "metadata": {
        "colab": {
          "base_uri": "https://localhost:8080/"
        },
        "id": "cAme1wW7Bjiz",
        "outputId": "abf0a87c-0cae-4494-8097-bfb0fbef5635"
      },
      "execution_count": null,
      "outputs": [
        {
          "output_type": "execute_result",
          "data": {
            "text/plain": [
              "array('i', [0, 1, 2, 3, 4, 5, 6, 7, 8, 9])"
            ]
          },
          "metadata": {},
          "execution_count": 9
        }
      ]
    },
    {
      "cell_type": "code",
      "source": [
        "import numpy as np\n",
        "np.array([1,4,2,5,3])"
      ],
      "metadata": {
        "colab": {
          "base_uri": "https://localhost:8080/"
        },
        "id": "5q_x7r1xBnkk",
        "outputId": "a5789e37-25e3-4717-b101-8a8cc2a143ca"
      },
      "execution_count": null,
      "outputs": [
        {
          "output_type": "execute_result",
          "data": {
            "text/plain": [
              "array([1, 4, 2, 5, 3])"
            ]
          },
          "metadata": {},
          "execution_count": 10
        }
      ]
    },
    {
      "cell_type": "code",
      "source": [
        "np.array([10.1,2,3,4])"
      ],
      "metadata": {
        "colab": {
          "base_uri": "https://localhost:8080/"
        },
        "id": "A_xJ7qegBrT0",
        "outputId": "b0dcb111-7fdd-4e81-9174-af62d9010f13"
      },
      "execution_count": null,
      "outputs": [
        {
          "output_type": "execute_result",
          "data": {
            "text/plain": [
              "array([10.1,  2. ,  3. ,  4. ])"
            ]
          },
          "metadata": {},
          "execution_count": 11
        }
      ]
    },
    {
      "cell_type": "code",
      "source": [
        "np.array([1,2,3,4], dtype='float32')"
      ],
      "metadata": {
        "colab": {
          "base_uri": "https://localhost:8080/"
        },
        "id": "gHnvzI2aBvB4",
        "outputId": "54e80f4e-433b-4515-9427-9e81b16df079"
      },
      "execution_count": null,
      "outputs": [
        {
          "output_type": "execute_result",
          "data": {
            "text/plain": [
              "array([1., 2., 3., 4.], dtype=float32)"
            ]
          },
          "metadata": {},
          "execution_count": 12
        }
      ]
    },
    {
      "cell_type": "code",
      "source": [
        "np.array([range(i, i+3) for i in [2,4,6]])"
      ],
      "metadata": {
        "colab": {
          "base_uri": "https://localhost:8080/"
        },
        "id": "elL7AcDRBySj",
        "outputId": "9cbde248-144b-4abd-b7e6-4a3fbcd6def0"
      },
      "execution_count": null,
      "outputs": [
        {
          "output_type": "execute_result",
          "data": {
            "text/plain": [
              "array([[2, 3, 4],\n",
              "       [4, 5, 6],\n",
              "       [6, 7, 8]])"
            ]
          },
          "metadata": {},
          "execution_count": 13
        }
      ]
    },
    {
      "cell_type": "code",
      "source": [
        "np.zeros(10, dtype=int)"
      ],
      "metadata": {
        "colab": {
          "base_uri": "https://localhost:8080/"
        },
        "id": "EnOFvC-hB1fY",
        "outputId": "4aef6e7c-65e6-4bd0-8034-df635668c8c2"
      },
      "execution_count": null,
      "outputs": [
        {
          "output_type": "execute_result",
          "data": {
            "text/plain": [
              "array([0, 0, 0, 0, 0, 0, 0, 0, 0, 0])"
            ]
          },
          "metadata": {},
          "execution_count": 14
        }
      ]
    },
    {
      "cell_type": "code",
      "source": [
        "np.zeros((2,5),dtype='float32')"
      ],
      "metadata": {
        "colab": {
          "base_uri": "https://localhost:8080/"
        },
        "id": "2mXkGk1JB4Xw",
        "outputId": "7389ed5d-44a3-46c4-f33f-725f551fca5d"
      },
      "execution_count": null,
      "outputs": [
        {
          "output_type": "execute_result",
          "data": {
            "text/plain": [
              "array([[0., 0., 0., 0., 0.],\n",
              "       [0., 0., 0., 0., 0.]], dtype=float32)"
            ]
          },
          "metadata": {},
          "execution_count": 15
        }
      ]
    },
    {
      "cell_type": "code",
      "source": [
        "np.ones((2,5),dtype=float)"
      ],
      "metadata": {
        "colab": {
          "base_uri": "https://localhost:8080/"
        },
        "id": "eE8NEDYFB8wY",
        "outputId": "62688090-fd62-4c47-a865-5c0405489b23"
      },
      "execution_count": null,
      "outputs": [
        {
          "output_type": "execute_result",
          "data": {
            "text/plain": [
              "array([[1., 1., 1., 1., 1.],\n",
              "       [1., 1., 1., 1., 1.]])"
            ]
          },
          "metadata": {},
          "execution_count": 16
        }
      ]
    },
    {
      "cell_type": "code",
      "source": [
        "np.full((3,5), 3.0)"
      ],
      "metadata": {
        "colab": {
          "base_uri": "https://localhost:8080/"
        },
        "id": "uyu1RenOB_a0",
        "outputId": "885a4fa5-f75b-4859-d499-279ed4c81f06"
      },
      "execution_count": null,
      "outputs": [
        {
          "output_type": "execute_result",
          "data": {
            "text/plain": [
              "array([[3., 3., 3., 3., 3.],\n",
              "       [3., 3., 3., 3., 3.],\n",
              "       [3., 3., 3., 3., 3.]])"
            ]
          },
          "metadata": {},
          "execution_count": 17
        }
      ]
    },
    {
      "cell_type": "code",
      "source": [
        "np.arange(0,20,3)"
      ],
      "metadata": {
        "colab": {
          "base_uri": "https://localhost:8080/"
        },
        "id": "-VhY2lehCC-m",
        "outputId": "b1544cd8-add2-4865-cadb-517a03627337"
      },
      "execution_count": null,
      "outputs": [
        {
          "output_type": "execute_result",
          "data": {
            "text/plain": [
              "array([ 0,  3,  6,  9, 12, 15, 18])"
            ]
          },
          "metadata": {},
          "execution_count": 18
        }
      ]
    },
    {
      "cell_type": "code",
      "source": [
        "np.arange(0,2,0.5)"
      ],
      "metadata": {
        "colab": {
          "base_uri": "https://localhost:8080/"
        },
        "id": "24hYue_gCEnN",
        "outputId": "fe288725-d4da-41d2-8ae8-7158f0cfb3b8"
      },
      "execution_count": null,
      "outputs": [
        {
          "output_type": "execute_result",
          "data": {
            "text/plain": [
              "array([0. , 0.5, 1. , 1.5])"
            ]
          },
          "metadata": {},
          "execution_count": 19
        }
      ]
    },
    {
      "cell_type": "code",
      "source": [
        "np.linspace(0,1,10)"
      ],
      "metadata": {
        "colab": {
          "base_uri": "https://localhost:8080/"
        },
        "id": "u7nS5-YwCIHi",
        "outputId": "0117fa24-701c-42bc-f113-7649db296a5f"
      },
      "execution_count": null,
      "outputs": [
        {
          "output_type": "execute_result",
          "data": {
            "text/plain": [
              "array([0.        , 0.11111111, 0.22222222, 0.33333333, 0.44444444,\n",
              "       0.55555556, 0.66666667, 0.77777778, 0.88888889, 1.        ])"
            ]
          },
          "metadata": {},
          "execution_count": 20
        }
      ]
    },
    {
      "cell_type": "code",
      "source": [
        "np.random.random((3,3))"
      ],
      "metadata": {
        "colab": {
          "base_uri": "https://localhost:8080/"
        },
        "id": "yHP37SG2CMdY",
        "outputId": "67a4591a-65d9-4cad-fb1a-ff9ec2899317"
      },
      "execution_count": null,
      "outputs": [
        {
          "output_type": "execute_result",
          "data": {
            "text/plain": [
              "array([[0.92441115, 0.67537652, 0.72014947],\n",
              "       [0.6191303 , 0.24848407, 0.88620909],\n",
              "       [0.41928877, 0.79635182, 0.12544671]])"
            ]
          },
          "metadata": {},
          "execution_count": 21
        }
      ]
    },
    {
      "cell_type": "code",
      "source": [
        "np.random.normal(0,1,(3,3))"
      ],
      "metadata": {
        "colab": {
          "base_uri": "https://localhost:8080/"
        },
        "id": "UVMZ_NLvCPn1",
        "outputId": "3e151bc8-c8a2-40ef-87bb-ca388f14c29d"
      },
      "execution_count": null,
      "outputs": [
        {
          "output_type": "execute_result",
          "data": {
            "text/plain": [
              "array([[-0.50920641, -1.14449994, -0.44567912],\n",
              "       [ 1.40463186, -1.4788737 , -1.27971101],\n",
              "       [-1.028438  , -0.05608867, -1.34344021]])"
            ]
          },
          "metadata": {},
          "execution_count": 22
        }
      ]
    },
    {
      "cell_type": "code",
      "source": [
        "np.random.randint(0,10,(3,3))"
      ],
      "metadata": {
        "colab": {
          "base_uri": "https://localhost:8080/"
        },
        "id": "tgSucthcCVhs",
        "outputId": "a1bb4e96-b404-453d-9dff-b214a0659b2b"
      },
      "execution_count": null,
      "outputs": [
        {
          "output_type": "execute_result",
          "data": {
            "text/plain": [
              "array([[2, 2, 1],\n",
              "       [9, 7, 5],\n",
              "       [8, 9, 1]])"
            ]
          },
          "metadata": {},
          "execution_count": 23
        }
      ]
    },
    {
      "cell_type": "code",
      "source": [
        "np.eye(3)"
      ],
      "metadata": {
        "colab": {
          "base_uri": "https://localhost:8080/"
        },
        "id": "GN2jSL9dCYyb",
        "outputId": "3736263a-d9b6-4300-d5da-d9c618a6af42"
      },
      "execution_count": null,
      "outputs": [
        {
          "output_type": "execute_result",
          "data": {
            "text/plain": [
              "array([[1., 0., 0.],\n",
              "       [0., 1., 0.],\n",
              "       [0., 0., 1.]])"
            ]
          },
          "metadata": {},
          "execution_count": 24
        }
      ]
    },
    {
      "cell_type": "code",
      "source": [
        "np.empty(3)"
      ],
      "metadata": {
        "colab": {
          "base_uri": "https://localhost:8080/"
        },
        "id": "a3RER6I3CcWG",
        "outputId": "7e22b82d-21f8-4ec6-b5bc-3f7629b139fa"
      },
      "execution_count": null,
      "outputs": [
        {
          "output_type": "execute_result",
          "data": {
            "text/plain": [
              "array([1., 1., 1.])"
            ]
          },
          "metadata": {},
          "execution_count": 25
        }
      ]
    },
    {
      "cell_type": "code",
      "source": [
        "import numpy as np\n",
        "np.random.seed(40)\n",
        "\n",
        "x1 = np.random.randint(50, size=6)\n",
        "x1"
      ],
      "metadata": {
        "colab": {
          "base_uri": "https://localhost:8080/"
        },
        "id": "jfTGxgELCe65",
        "outputId": "0861b774-fa39-4f16-b246-b5d865d1d309"
      },
      "execution_count": null,
      "outputs": [
        {
          "output_type": "execute_result",
          "data": {
            "text/plain": [
              "array([ 6, 27,  7, 37,  1, 12])"
            ]
          },
          "metadata": {},
          "execution_count": 26
        }
      ]
    },
    {
      "cell_type": "code",
      "source": [
        "np.random.seed(100)\n",
        "x2 = np.random.randint(200,size=(5,6,7))\n",
        "x2"
      ],
      "metadata": {
        "colab": {
          "base_uri": "https://localhost:8080/"
        },
        "id": "3Pz9CgcNCjvn",
        "outputId": "56a3f939-2d91-431c-fef2-da3472b7590a"
      },
      "execution_count": null,
      "outputs": [
        {
          "output_type": "execute_result",
          "data": {
            "text/plain": [
              "array([[[  8,  24,  67, 103,  87,  79, 176],\n",
              "        [138,  94, 180,  98,  53,  66,  14],\n",
              "        [ 34,  24, 143, 107,  60,  58, 144],\n",
              "        [137,  93,  86, 130, 155, 108, 132],\n",
              "        [159, 129, 141, 100,   4,  91, 187],\n",
              "        [ 67, 135,  49, 175, 193,  61,  14]],\n",
              "\n",
              "       [[183, 199,  80,   2, 121, 105, 147],\n",
              "        [ 63, 181,  27,  56, 113, 158, 176],\n",
              "        [ 47, 167, 109,  38, 172,  18, 192],\n",
              "        [184, 162, 181,  17,  72,  13, 106],\n",
              "        [ 30,  17,  53,  68, 178,  91, 181],\n",
              "        [ 78,   0,  13, 185, 106, 131,  70]],\n",
              "\n",
              "       [[131, 138, 188, 131, 105, 176, 180],\n",
              "        [ 43,  36,   5,  71,  38,  94, 170],\n",
              "        [ 84,  95, 114, 119,  76,  33,  58],\n",
              "        [102, 170, 150,   0, 183, 147,  53],\n",
              "        [196, 190,  50, 196, 163, 151,   9],\n",
              "        [176,  21, 153, 182,   6, 165, 102]],\n",
              "\n",
              "       [[122, 116, 186,  39, 107,  51,  30],\n",
              "        [121,  66, 152, 183,  17,  45,  89],\n",
              "        [173,  35,  16,  12,  86, 109,  67],\n",
              "        [ 20, 138,   8, 158, 140, 146,  93],\n",
              "        [119,  92,  44,  57, 127,   0,  73],\n",
              "        [182,  66, 144, 133, 179,  90,  34]],\n",
              "\n",
              "       [[195,  94, 182,  77, 129,  14, 115],\n",
              "        [ 33, 148, 168,  24, 186,  28, 135],\n",
              "        [  2,  63, 113, 130, 145,  74, 181],\n",
              "        [ 30,  67, 156, 165,  82, 145, 138],\n",
              "        [141,  81, 117,  25, 194, 143, 108],\n",
              "        [122,  11, 101,  38, 116,  22,  55]]])"
            ]
          },
          "metadata": {},
          "execution_count": 27
        }
      ]
    },
    {
      "cell_type": "code",
      "source": [
        "np.random.seed(100)\n",
        "x3 = np.random.randint(200, size=(4,2,2,3))\n",
        "x3\n"
      ],
      "metadata": {
        "colab": {
          "base_uri": "https://localhost:8080/"
        },
        "id": "JUKt3OQJCoSv",
        "outputId": "f361d41e-f980-41e9-ba7c-81ece4091fed"
      },
      "execution_count": null,
      "outputs": [
        {
          "output_type": "execute_result",
          "data": {
            "text/plain": [
              "array([[[[  8,  24,  67],\n",
              "         [103,  87,  79]],\n",
              "\n",
              "        [[176, 138,  94],\n",
              "         [180,  98,  53]]],\n",
              "\n",
              "\n",
              "       [[[ 66,  14,  34],\n",
              "         [ 24, 143, 107]],\n",
              "\n",
              "        [[ 60,  58, 144],\n",
              "         [137,  93,  86]]],\n",
              "\n",
              "\n",
              "       [[[130, 155, 108],\n",
              "         [132, 159, 129]],\n",
              "\n",
              "        [[141, 100,   4],\n",
              "         [ 91, 187,  67]]],\n",
              "\n",
              "\n",
              "       [[[135,  49, 175],\n",
              "         [193,  61,  14]],\n",
              "\n",
              "        [[183, 199,  80],\n",
              "         [  2, 121, 105]]]])"
            ]
          },
          "metadata": {},
          "execution_count": 28
        }
      ]
    },
    {
      "cell_type": "code",
      "source": [
        "np.random.seed(100)\n",
        "x4 = np.random.randint(200, size=(2,4,2,2,3))\n",
        "x4"
      ],
      "metadata": {
        "colab": {
          "base_uri": "https://localhost:8080/"
        },
        "id": "qV9ZiE90Cv2u",
        "outputId": "54249982-bf78-4d64-aa3e-1e24fdc7bb28"
      },
      "execution_count": null,
      "outputs": [
        {
          "output_type": "execute_result",
          "data": {
            "text/plain": [
              "array([[[[[  8,  24,  67],\n",
              "          [103,  87,  79]],\n",
              "\n",
              "         [[176, 138,  94],\n",
              "          [180,  98,  53]]],\n",
              "\n",
              "\n",
              "        [[[ 66,  14,  34],\n",
              "          [ 24, 143, 107]],\n",
              "\n",
              "         [[ 60,  58, 144],\n",
              "          [137,  93,  86]]],\n",
              "\n",
              "\n",
              "        [[[130, 155, 108],\n",
              "          [132, 159, 129]],\n",
              "\n",
              "         [[141, 100,   4],\n",
              "          [ 91, 187,  67]]],\n",
              "\n",
              "\n",
              "        [[[135,  49, 175],\n",
              "          [193,  61,  14]],\n",
              "\n",
              "         [[183, 199,  80],\n",
              "          [  2, 121, 105]]]],\n",
              "\n",
              "\n",
              "\n",
              "       [[[[147,  63, 181],\n",
              "          [ 27,  56, 113]],\n",
              "\n",
              "         [[158, 176,  47],\n",
              "          [167, 109,  38]]],\n",
              "\n",
              "\n",
              "        [[[172,  18, 192],\n",
              "          [184, 162, 181]],\n",
              "\n",
              "         [[ 17,  72,  13],\n",
              "          [106,  30,  17]]],\n",
              "\n",
              "\n",
              "        [[[ 53,  68, 178],\n",
              "          [ 91, 181,  78]],\n",
              "\n",
              "         [[  0,  13, 185],\n",
              "          [106, 131,  70]]],\n",
              "\n",
              "\n",
              "        [[[131, 138, 188],\n",
              "          [131, 105, 176]],\n",
              "\n",
              "         [[180,  43,  36],\n",
              "          [  5,  71,  38]]]]])"
            ]
          },
          "metadata": {},
          "execution_count": 29
        }
      ]
    },
    {
      "cell_type": "code",
      "source": [
        "x2.shape"
      ],
      "metadata": {
        "colab": {
          "base_uri": "https://localhost:8080/"
        },
        "id": "YUwY1ntAC04L",
        "outputId": "0c7dc318-1f5d-42aa-a2ff-2b52ce7d004f"
      },
      "execution_count": null,
      "outputs": [
        {
          "output_type": "execute_result",
          "data": {
            "text/plain": [
              "(5, 6, 7)"
            ]
          },
          "metadata": {},
          "execution_count": 30
        }
      ]
    },
    {
      "cell_type": "code",
      "source": [
        "x2.ndim"
      ],
      "metadata": {
        "colab": {
          "base_uri": "https://localhost:8080/"
        },
        "id": "JntNvzJ-C4Bm",
        "outputId": "7a8d76f2-6df6-45d0-d71d-07fe5db0637e"
      },
      "execution_count": null,
      "outputs": [
        {
          "output_type": "execute_result",
          "data": {
            "text/plain": [
              "3"
            ]
          },
          "metadata": {},
          "execution_count": 31
        }
      ]
    },
    {
      "cell_type": "code",
      "source": [
        "x2.size"
      ],
      "metadata": {
        "colab": {
          "base_uri": "https://localhost:8080/"
        },
        "id": "kq8196_kC6l_",
        "outputId": "7de8ce20-87cc-437d-f1d5-d81a9daef4cd"
      },
      "execution_count": null,
      "outputs": [
        {
          "output_type": "execute_result",
          "data": {
            "text/plain": [
              "210"
            ]
          },
          "metadata": {},
          "execution_count": 32
        }
      ]
    },
    {
      "cell_type": "code",
      "source": [
        "x2.nbytes"
      ],
      "metadata": {
        "colab": {
          "base_uri": "https://localhost:8080/"
        },
        "id": "4iCsn5EyC9cp",
        "outputId": "54e380eb-c33d-4bc3-b84e-45639bccece4"
      },
      "execution_count": null,
      "outputs": [
        {
          "output_type": "execute_result",
          "data": {
            "text/plain": [
              "1680"
            ]
          },
          "metadata": {},
          "execution_count": 33
        }
      ]
    },
    {
      "cell_type": "code",
      "source": [
        "x2.itemsize"
      ],
      "metadata": {
        "colab": {
          "base_uri": "https://localhost:8080/"
        },
        "id": "Q76C6aV0DBu2",
        "outputId": "44593cce-a9af-48a0-e07c-08cdae257823"
      },
      "execution_count": null,
      "outputs": [
        {
          "output_type": "execute_result",
          "data": {
            "text/plain": [
              "8"
            ]
          },
          "metadata": {},
          "execution_count": 34
        }
      ]
    }
  ]
}