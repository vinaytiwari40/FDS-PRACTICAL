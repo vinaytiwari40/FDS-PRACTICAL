{
  "nbformat": 4,
  "nbformat_minor": 0,
  "metadata": {
    "colab": {
      "name": "assignment-4",
      "provenance": [],
      "collapsed_sections": []
    },
    "kernelspec": {
      "name": "python3",
      "display_name": "Python 3"
    },
    "language_info": {
      "name": "python"
    }
  },
  "cells": [
    {
      "cell_type": "code",
      "execution_count": null,
      "metadata": {
        "id": "SA_Jg1jTDUMt"
      },
      "outputs": [],
      "source": [
        ""
      ]
    },
    {
      "cell_type": "markdown",
      "source": [
        "chapter 2 world alcohol consumption data"
      ],
      "metadata": {
        "id": "4sAugS8WD_sc"
      }
    },
    {
      "cell_type": "code",
      "source": [
        "import pandas as pd\n",
        "drinks = pd.read_csv('drinks.csv')\n",
        "print(drinks)"
      ],
      "metadata": {
        "colab": {
          "base_uri": "https://localhost:8080/"
        },
        "id": "-ezCyIUCEAb2",
        "outputId": "5be7b2b1-0448-4697-dd4d-96b492a18eaf"
      },
      "execution_count": null,
      "outputs": [
        {
          "output_type": "stream",
          "name": "stdout",
          "text": [
            "         country  beer_servings  ...  total_litres_of_pure_alcohol  continent\n",
            "0    Afghanistan              0  ...                           0.0         AS\n",
            "1        Albania             89  ...                           4.9         EU\n",
            "2        Algeria             25  ...                           0.7         AF\n",
            "3        Andorra            245  ...                          12.4         EU\n",
            "4         Angola            217  ...                           5.9         AF\n",
            "..           ...            ...  ...                           ...        ...\n",
            "188    Venezuela            333  ...                           7.7         SA\n",
            "189      Vietnam            111  ...                           2.0         AS\n",
            "190        Yemen              6  ...                           0.1         AS\n",
            "191       Zambia             32  ...                           2.5         AF\n",
            "192     Zimbabwe             64  ...                           4.7         AF\n",
            "\n",
            "[193 rows x 6 columns]\n"
          ]
        }
      ]
    },
    {
      "cell_type": "code",
      "source": [
        "drinks['continent'].describe()"
      ],
      "metadata": {
        "colab": {
          "base_uri": "https://localhost:8080/"
        },
        "id": "nQz0xc_sERZm",
        "outputId": "ba673e37-13e7-4e43-ab87-13b1957c9dd9"
      },
      "execution_count": null,
      "outputs": [
        {
          "output_type": "execute_result",
          "data": {
            "text/plain": [
              "count     170\n",
              "unique      5\n",
              "top        AF\n",
              "freq       53\n",
              "Name: continent, dtype: object"
            ]
          },
          "metadata": {},
          "execution_count": 3
        }
      ]
    },
    {
      "cell_type": "code",
      "source": [
        "drinks['beer_servings'].describe()"
      ],
      "metadata": {
        "colab": {
          "base_uri": "https://localhost:8080/"
        },
        "id": "xo_gvBQOEd3Z",
        "outputId": "c1d81e8a-db9f-4f78-e6c6-7962fa8fd76f"
      },
      "execution_count": null,
      "outputs": [
        {
          "output_type": "execute_result",
          "data": {
            "text/plain": [
              "count    193.000000\n",
              "mean     106.160622\n",
              "std      101.143103\n",
              "min        0.000000\n",
              "25%       20.000000\n",
              "50%       76.000000\n",
              "75%      188.000000\n",
              "max      376.000000\n",
              "Name: beer_servings, dtype: float64"
            ]
          },
          "metadata": {},
          "execution_count": 4
        }
      ]
    },
    {
      "cell_type": "code",
      "source": [
        "drinks['total_litres_of_pure_alcohol'].describe()"
      ],
      "metadata": {
        "colab": {
          "base_uri": "https://localhost:8080/"
        },
        "id": "ZKpQjGI2EgUz",
        "outputId": "4dfea324-c2ad-4396-a43b-ab58f230e908"
      },
      "execution_count": null,
      "outputs": [
        {
          "output_type": "execute_result",
          "data": {
            "text/plain": [
              "count    193.000000\n",
              "mean       4.717098\n",
              "std        3.773298\n",
              "min        0.000000\n",
              "25%        1.300000\n",
              "50%        4.200000\n",
              "75%        7.200000\n",
              "max       14.400000\n",
              "Name: total_litres_of_pure_alcohol, dtype: float64"
            ]
          },
          "metadata": {},
          "execution_count": 5
        }
      ]
    },
    {
      "cell_type": "code",
      "source": [
        "drinks['wine_servings'].describe()"
      ],
      "metadata": {
        "colab": {
          "base_uri": "https://localhost:8080/"
        },
        "id": "r0GHmP1cEnJd",
        "outputId": "b83f2495-c2df-42b5-f0a6-7e9c2ff65804"
      },
      "execution_count": null,
      "outputs": [
        {
          "output_type": "execute_result",
          "data": {
            "text/plain": [
              "count    193.000000\n",
              "mean      49.450777\n",
              "std       79.697598\n",
              "min        0.000000\n",
              "25%        1.000000\n",
              "50%        8.000000\n",
              "75%       59.000000\n",
              "max      370.000000\n",
              "Name: wine_servings, dtype: float64"
            ]
          },
          "metadata": {},
          "execution_count": 6
        }
      ]
    },
    {
      "cell_type": "markdown",
      "source": [
        "chapter 2 measure of cente"
      ],
      "metadata": {
        "id": "39WUKCfnE4We"
      }
    },
    {
      "cell_type": "code",
      "source": [
        "import numpy\n",
        "results = [5, 4, 3, 4, 5, 3, 2, 5, 3, 2, 1, 4, 5, 3, 4, 4, 5, 4, 2, 1,\n",
        "4, 5, 4, 3, 2, 4, 4, 5, 4, 3, 2, 1]\n",
        "sorted_results = sorted(results)\n",
        "print(sorted_results)\n",
        "print(numpy.mean(results)) #mean\n",
        "print(numpy.median(results)) #median"
      ],
      "metadata": {
        "colab": {
          "base_uri": "https://localhost:8080/"
        },
        "id": "a7W-qnofE6q1",
        "outputId": "64b39b04-b502-48e5-cbcf-f72837b230cd"
      },
      "execution_count": null,
      "outputs": [
        {
          "output_type": "stream",
          "name": "stdout",
          "text": [
            "[1, 1, 1, 2, 2, 2, 2, 2, 3, 3, 3, 3, 3, 3, 4, 4, 4, 4, 4, 4, 4, 4, 4, 4, 4, 5, 5, 5, 5, 5, 5, 5]\n",
            "3.4375\n",
            "4.0\n"
          ]
        }
      ]
    },
    {
      "cell_type": "markdown",
      "source": [
        "chapter 2 standard deviation"
      ],
      "metadata": {
        "id": "JY1rugz6FCp7"
      }
    },
    {
      "cell_type": "code",
      "source": [
        "import numpy\n",
        "temps = [31, 32, 32, 31, 28, 29, 31, 38, 32, 31, 30, 29, 30, 31, 26]\n",
        "print(numpy.mean(temps))\n",
        "print(numpy.median(temps))"
      ],
      "metadata": {
        "colab": {
          "base_uri": "https://localhost:8080/"
        },
        "id": "C9mW5l1RFF8-",
        "outputId": "a1c10d61-24ac-4186-9593-19b16eeeb6e4"
      },
      "execution_count": null,
      "outputs": [
        {
          "output_type": "stream",
          "name": "stdout",
          "text": [
            "30.733333333333334\n",
            "31.0\n"
          ]
        }
      ]
    },
    {
      "cell_type": "code",
      "source": [
        "mean = numpy.mean(temps)\n",
        "squared_differences_list = []\n",
        "for temperature in temps:\n",
        "  difference = temperature - mean\n",
        "  squared_difference = difference**2\n",
        "  squared_differences_list.append(squared_difference)\n",
        "average_squared_difference = numpy.mean(squared_differences_list)\n",
        "standard_deviation = numpy.sqrt(average_squared_difference)\n",
        "print(standard_deviation) #standard deviation"
      ],
      "metadata": {
        "colab": {
          "base_uri": "https://localhost:8080/"
        },
        "id": "53TaWc9VE-TT",
        "outputId": "8b4b51e3-d623-40af-8f39-b8c843fbfb21"
      },
      "execution_count": null,
      "outputs": [
        {
          "output_type": "stream",
          "name": "stdout",
          "text": [
            "2.5157283018817607\n"
          ]
        }
      ]
    },
    {
      "cell_type": "markdown",
      "source": [
        "chapter 2 measure of center geometric mean"
      ],
      "metadata": {
        "id": "TfQjOmlNFSBt"
      }
    },
    {
      "cell_type": "code",
      "source": [
        "import numpy\n",
        "temps_two = [31, 32, 32, 31, 28, 29, 31, 38, 32, 31, 30, 29, 30, 31, 26]\n",
        "num_items = len(temps_two)\n",
        "product = 1\n",
        "for tmp in temps_two:\n",
        "  product *= tmp\n",
        "geometric_mean = product**(1.0/num_items)\n",
        "print(geometric_mean) #geometric mean"
      ],
      "metadata": {
        "id": "metJZEuZFS41",
        "outputId": "d0bb01a6-287c-437c-e2ea-86c7a34bc357",
        "colab": {
          "base_uri": "https://localhost:8080/"
        }
      },
      "execution_count": null,
      "outputs": [
        {
          "output_type": "stream",
          "name": "stdout",
          "text": [
            "30.63473484374659\n"
          ]
        }
      ]
    },
    {
      "cell_type": "code",
      "source": [
        ""
      ],
      "metadata": {
        "id": "kODgvyoGFOn5"
      },
      "execution_count": null,
      "outputs": []
    }
  ]
}